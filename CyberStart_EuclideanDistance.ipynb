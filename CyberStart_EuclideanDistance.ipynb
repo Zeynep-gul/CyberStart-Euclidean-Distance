{
  "nbformat": 4,
  "nbformat_minor": 0,
  "metadata": {
    "colab": {
      "provenance": [],
      "authorship_tag": "ABX9TyNFqpzZf6X6YVjrryvrkRk6",
      "include_colab_link": true
    },
    "kernelspec": {
      "name": "python3",
      "display_name": "Python 3"
    },
    "language_info": {
      "name": "python"
    }
  },
  "cells": [
    {
      "cell_type": "markdown",
      "metadata": {
        "id": "view-in-github",
        "colab_type": "text"
      },
      "source": [
        "<a href=\"https://colab.research.google.com/github/Zeynep-gul/CyberStart-Euclidean-Distance/blob/main/CyberStart_EuclideanDistance.ipynb\" target=\"_parent\"><img src=\"https://colab.research.google.com/assets/colab-badge.svg\" alt=\"Open In Colab\"/></a>"
      ]
    },
    {
      "cell_type": "code",
      "source": [
        "import math"
      ],
      "metadata": {
        "id": "AwORIgaldTO0"
      },
      "execution_count": 1,
      "outputs": []
    },
    {
      "cell_type": "code",
      "source": [
        "def euclideanDistance(point1, point2):\n",
        "    x1, y1 = point1\n",
        "    x2, y2 = point2\n",
        "    return math.sqrt((x2 - x1) ** 2 + (y2 - y1) ** 2)"
      ],
      "metadata": {
        "id": "BtDRCCDmdkIB"
      },
      "execution_count": 2,
      "outputs": []
    },
    {
      "cell_type": "code",
      "source": [
        "points = [(2,2),(4,10),(7,14)]\n",
        "\n",
        "distances = []\n",
        "for i in range(len(points)):\n",
        "    for j in range(i + 1, len(points)):\n",
        "        distance = euclideanDistance(points[i], points[j])\n",
        "        distances.append((distance, points[i], points[j]))"
      ],
      "metadata": {
        "id": "gTefkxWQfMKI"
      },
      "execution_count": 4,
      "outputs": []
    },
    {
      "cell_type": "code",
      "source": [
        "min_distance = min(distances, key=lambda x: x[0])\n",
        "print(\"Minimum mesafe: {:.2f}\".format(min_distance[0]))\n",
        "print(\"Bu mesafe arasındaki noktalar:\", min_distance[1], \"ve\", min_distance[2])"
      ],
      "metadata": {
        "colab": {
          "base_uri": "https://localhost:8080/"
        },
        "id": "ENf_AMm0f1Ph",
        "outputId": "cdda6451-ff4e-486f-a12f-85b2ed3f316b"
      },
      "execution_count": 5,
      "outputs": [
        {
          "output_type": "stream",
          "name": "stdout",
          "text": [
            "Minimum mesafe: 5.00\n",
            "Bu mesafe arasındaki noktalar: (4, 10) ve (7, 14)\n"
          ]
        }
      ]
    }
  ]
}